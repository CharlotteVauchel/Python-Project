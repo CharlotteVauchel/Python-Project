{
 "cells": [
  {
   "cell_type": "markdown",
   "id": "e581c03a-1557-4161-ab36-70c7b3a8c496",
   "metadata": {},
   "source": [
    "# Spotify analisis using Spotify's data from Kaggle"
   ]
  },
  {
   "cell_type": "code",
   "execution_count": 1,
   "id": "33c9b099-c555-40bd-b7db-1d3ae933e7e7",
   "metadata": {},
   "outputs": [],
   "source": [
    "# Imports needed for the file\n",
    "import spotipy\n",
    "import numpy as np\n",
    "import spotifykey\n",
    "import sys \n",
    "import pandas as pd\n",
    "import json\n",
    "import plotly.express as px\n",
    "from dash import Dash, html, dcc, Input, Output\n",
    "from spotipy.oauth2 import SpotifyOAuth\n",
    "from spotipy.oauth2 import SpotifyClientCredentials"
   ]
  },
  {
   "cell_type": "code",
   "execution_count": 2,
   "id": "cebfbb3f-0265-4fb4-9da0-ab42e6ba6ab0",
   "metadata": {},
   "outputs": [],
   "source": [
    "# Initialisation of the needed spotify tools\n",
    "\n",
    "#You need here to put your key and secret in the spotifykey.py file (the variable are for now empty)\n",
    "key = spotifykey.api_key\n",
    "secret = spotifykey.api_secret\n",
    "\n",
    "scope = \"user-library-read\"\n",
    "sp = spotipy.Spotify(client_credentials_manager=SpotifyClientCredentials(client_id = key, client_secret = secret)) #Connexion to spotify account"
   ]
  },
  {
   "cell_type": "code",
   "execution_count": 3,
   "id": "60adfc8c-da51-477e-b64f-56633c3228c0",
   "metadata": {},
   "outputs": [],
   "source": [
    "# Initialisation of the data from the kaggle csv\n",
    "spotify_data = pd.read_csv(\"Spotify-2000.csv\")\n",
    "spotify_data[\"datetime\"] = pd.to_datetime(spotify_data[\"Year\"], errors=\"coerce\", format = \"%Y\")\n",
    "spotify_data.set_index(\"datetime\", inplace = True)\n",
    "spotify_data[\"nb_track\"] = 1\n",
    "spotify_data.drop(columns=[\"Index\", \"Title\", \"Artist\", \"Year\", \"Beats Per Minute (BPM)\", \"Energy\", \"Danceability\", \"Loudness (dB)\", \"Liveness\", \"Valence\", \"Length (Duration)\", \"Acousticness\", \"Speechiness\", \"Popularity\"], inplace=True)"
   ]
  },
  {
   "cell_type": "code",
   "execution_count": 4,
   "id": "74c62bf4-3943-4005-bf2c-13b0314af2a2",
   "metadata": {},
   "outputs": [],
   "source": [
    "# Creation of an other data frame for the genre\n",
    "genre = pd.DataFrame(data=spotify_data['Top Genre'].value_counts())\n",
    "genre['name']=genre.index\n",
    "genre['value']=genre['Top Genre']\n",
    "genre.drop(columns=['Top Genre'], inplace = True)"
   ]
  },
  {
   "cell_type": "code",
   "execution_count": 5,
   "id": "681c908c-7137-45aa-bc01-e975f3ac43a4",
   "metadata": {},
   "outputs": [],
   "source": [
    "#Creation of a dashboard object to display the music statistics\n",
    "\n",
    "app_music = Dash(__name__)\n",
    "app_music.layout = html.Div([\n",
    "    html.H1(children=\"Spotify music statistics from 1958 to 2019\"),\n",
    "    \n",
    "    dcc.DatePickerRange(id=\"date-range\",\n",
    "                        start_date = \"1958-01-01\",\n",
    "                        end_date = \"2020-01-01\"),\n",
    "    \n",
    "    dcc.RadioItems(id=\"data_res\",\n",
    "                   options={\"year\":\"By year\",\n",
    "                            \"genre\":\"By genre\"},\n",
    "                           value=\"year\",\n",
    "                           inline=True),\n",
    "    \n",
    "    dcc.Graph(id=\"graph\"),\n",
    "])\n",
    "\n",
    "@app_music.callback(\n",
    "    Output(component_id=\"graph\", component_property=\"figure\"),\n",
    "    Input(component_id=\"date-range\", component_property=\"start_date\"),\n",
    "    Input(component_id=\"date-range\", component_property=\"end_date\"),\n",
    "    Input(component_id=\"data_res\", component_property=\"value\")\n",
    ")\n",
    "\n",
    "def update_figure(start_date, end_date, data_res_value):\n",
    "\n",
    "\n",
    "    if data_res_value == \"year\":\n",
    "        spotify_data_resampled = spotify_data.resample('Y').count()\n",
    "        spotify_data_updated = spotify_data_resampled.loc[(spotify_data_resampled.index.strftime(\"%Y-%m-%d\") >= start_date) & \n",
    "                                   (spotify_data_resampled.index.strftime(\"%Y-%m-%d\") <= end_date)] \n",
    "        x_title = \"Year\"\n",
    "        fig = px.line(spotify_data_updated,\n",
    "                     y=spotify_data_updated['nb_track'],\n",
    "                     x=spotify_data_updated.index)\n",
    "        \n",
    "    elif data_res_value == \"genre\":\n",
    "        x_title = \"Genre\"\n",
    "        fig = px.sunburst(genre, path=['name'], values='value',\n",
    "                  color='name')\n",
    "    \n",
    "    \n",
    "    fig.update_layout(xaxis_title=x_title,\n",
    "                      yaxis_title=\"Count\",\n",
    "                      title=\"Statistics of the 2000 best spotify musics\",\n",
    "                      height=600)\n",
    "\n",
    "    return fig"
   ]
  },
  {
   "cell_type": "code",
   "execution_count": null,
   "id": "4ae22f5d-ac60-471f-a24f-e01cd906e2b2",
   "metadata": {},
   "outputs": [
    {
     "name": "stdout",
     "output_type": "stream",
     "text": [
      "Dash is running on http://127.0.0.1:8050/\n",
      "\n",
      " * Serving Flask app '__main__'\n",
      " * Debug mode: on\n"
     ]
    }
   ],
   "source": [
    "if __name__ == '__main__':\n",
    "    app_music.run(debug=True, use_reloader=False)"
   ]
  },
  {
   "cell_type": "code",
   "execution_count": null,
   "id": "1e2183e4-7cf6-499d-9dfe-4ec7c4c93104",
   "metadata": {
    "tags": []
   },
   "outputs": [],
   "source": []
  },
  {
   "cell_type": "code",
   "execution_count": null,
   "id": "f2b35190-7296-430e-ae23-f27990e2bc05",
   "metadata": {},
   "outputs": [],
   "source": []
  },
  {
   "cell_type": "code",
   "execution_count": null,
   "id": "4b5b4e11-f461-4b29-ad71-90911e1899fc",
   "metadata": {},
   "outputs": [],
   "source": []
  }
 ],
 "metadata": {
  "kernelspec": {
   "display_name": "Python 3 (ipykernel)",
   "language": "python",
   "name": "python3"
  },
  "language_info": {
   "codemirror_mode": {
    "name": "ipython",
    "version": 3
   },
   "file_extension": ".py",
   "mimetype": "text/x-python",
   "name": "python",
   "nbconvert_exporter": "python",
   "pygments_lexer": "ipython3",
   "version": "3.10.9"
  }
 },
 "nbformat": 4,
 "nbformat_minor": 5
}
